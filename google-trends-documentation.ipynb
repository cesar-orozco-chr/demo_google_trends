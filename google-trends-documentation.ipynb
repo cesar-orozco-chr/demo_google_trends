{
 "cells": [
  {
   "cell_type": "code",
   "execution_count": null,
   "id": "2f06b92e",
   "metadata": {},
   "outputs": [],
   "source": [
    "!unzip playbook-google-trends.zip"
   ]
  },
  {
   "cell_type": "code",
   "execution_count": null,
   "id": "860e3f41",
   "metadata": {},
   "outputs": [],
   "source": [
    "!pip install --no-cache-dir --upgrade cryptography"
   ]
  },
  {
   "cell_type": "markdown",
   "id": "4a16c856",
   "metadata": {},
   "source": [
    "# Quick intro to download Google Trends data\n",
    "First step is to define queries you want to send to Google Trends, then build a json object to pass it through the utility.\n",
    "json_query object properties:\n",
    "* keywords: A list with single words to search\n",
    "* countries: A list of countries which must be included in the search\n",
    "* timeframe: A span of time desired to perform the search in string format. p.e today 2-m, today 5-y "
   ]
  },
  {
   "cell_type": "code",
   "execution_count": null,
   "id": "90ea21f4",
   "metadata": {},
   "outputs": [],
   "source": [
    "json_query = {\n",
    "            \"keywords\":[\"Disney+\", \"Star+\"],\n",
    "            \"countries\":[\"AR\", \"BR\", \"CH\"],\n",
    "            \"timeframe\": \"2021-01-01 2021-09-13\"\n",
    "        }"
   ]
  },
  {
   "cell_type": "markdown",
   "id": "9cb64a81",
   "metadata": {},
   "source": [
    "## 1. Configure query processing\n",
    "First make sure to have a Python environment and installed pytrends `pip install pytrends`."
   ]
  },
  {
   "cell_type": "markdown",
   "id": "6019b11d",
   "metadata": {},
   "source": [
    "Run queries with the following block of code\n",
    "`Pytrends` Allows simple interface for automating downloading of reports from Google Trends. For more information please read the official documentation [here](https://github.com/GeneralMills/pytrends).\n",
    "Import pytrends TrendReq class, then import utility functions from google_trends"
   ]
  },
  {
   "cell_type": "code",
   "execution_count": null,
   "id": "fb3a0ccd",
   "metadata": {},
   "outputs": [],
   "source": [
    "from pytrends.request import TrendReq\n",
    "# Create a instance of pytrends. 10 secs for connection and 25 secs for reading\n",
    "# find more information here: https://docs.python-requests.org/en/master/user/advanced/#timeouts\n",
    "pytrends = pytrends = TrendReq(timeout=(10,25), retries=10)"
   ]
  },
  {
   "cell_type": "code",
   "execution_count": null,
   "id": "779ae665",
   "metadata": {},
   "outputs": [],
   "source": [
    "from google_trends.utils import (build_data_per_country,\n",
    "                  build_interest_by_country,\n",
    "                  upload_df_to_google_cloud_bigquery)\n"
   ]
  },
  {
   "cell_type": "markdown",
   "id": "5b80ae72",
   "metadata": {},
   "source": [
    "Aditional configuration objects should be imported too.\n",
    "* PROJECT_ID: It is a reference for Project ID in GCP\n",
    "* DATASET_ID: This is a Bigquery dataset in GCP\n",
    "* top_search and interest_over_time are special configuration objects to control how is data stored in Bigquery. Those objects have same properties _table_name_ refers to table name in a Bigquery dataset, and _if_exists_behaviour_ refers if the table should be truncated (replace) or not (append). Use _append_ or _replace_.\n",
    "If you need to change configuration values do it on file `google_trends/config.py`"
   ]
  },
  {
   "cell_type": "code",
   "execution_count": null,
   "id": "e6bea26c",
   "metadata": {},
   "outputs": [],
   "source": [
    "from google_trends.config import (\n",
    "    PROJECT_ID,\n",
    "    DATASET_ID,\n",
    "    top_search,\n",
    "    interest_over_time\n",
    ")"
   ]
  },
  {
   "cell_type": "markdown",
   "id": "539c50ab",
   "metadata": {},
   "source": [
    "## 2. Running queries\n",
    "google_trends module can perform two queries: _top search_ and _interest_over_time_\n",
    "Below are the two requests using _json_query_ JSON object"
   ]
  },
  {
   "cell_type": "code",
   "execution_count": null,
   "id": "c5aa25ac",
   "metadata": {},
   "outputs": [],
   "source": [
    "topsearch_df = build_data_per_country(\n",
    "    timeframe=json_query[\"timeframe\"],\n",
    "    geo_list=json_query[\"countries\"],\n",
    "    pytrends=pytrends,\n",
    "    keyword_list=json_query[\"keywords\"],\n",
    "    include_cat=False\n",
    "\n",
    ")\n",
    "\n",
    "interest_overtime_df = build_interest_by_country(\n",
    "    timeframe=json_query[\"timeframe\"],\n",
    "    geo_list=json_query[\"countries\"],\n",
    "    pytrends=pytrends,\n",
    "    keyword_list=json_query[\"keywords\"],\n",
    "    category=0\n",
    ")"
   ]
  },
  {
   "cell_type": "code",
   "execution_count": null,
   "id": "6882234c",
   "metadata": {},
   "outputs": [],
   "source": [
    "topsearch_df.head()"
   ]
  },
  {
   "cell_type": "code",
   "execution_count": null,
   "id": "695dc2e4",
   "metadata": {},
   "outputs": [],
   "source": [
    "interest_overtime_df.head()"
   ]
  },
  {
   "cell_type": "markdown",
   "id": "e9e7ec37",
   "metadata": {},
   "source": [
    "## 3. Upload data into Bigquery\n",
    "According to config objects, the data retrieved is stored in Bigquery using pandas objects.\n",
    "For each function, a summary of the job execution is shown."
   ]
  },
  {
   "cell_type": "code",
   "execution_count": null,
   "id": "32f5ada0",
   "metadata": {},
   "outputs": [],
   "source": [
    "upload_df_to_google_cloud_bigquery(\n",
    "    source_df=topsearch_df,\n",
    "    project_id=PROJECT_ID,\n",
    "    dataset_name=top_search[\"table_name\"],\n",
    "    if_exists_behaviour=top_search[\"if_exists_behaviour\"]\n",
    ")\n"
   ]
  },
  {
   "cell_type": "code",
   "execution_count": null,
   "id": "006a8c66",
   "metadata": {},
   "outputs": [],
   "source": [
    "upload_df_to_google_cloud_bigquery(\n",
    "    source_df=interest_overtime_df,\n",
    "    project_id=PROJECT_ID,\n",
    "    dataset_name=interest_over_time[\"table_name\"],\n",
    "    if_exists_behaviour=interest_over_time[\"if_exists_behaviour\"]\n",
    ")"
   ]
  },
  {
   "cell_type": "markdown",
   "id": "0e8ece50",
   "metadata": {},
   "source": [
    "# Upload data into Snowflake "
   ]
  },
  {
   "cell_type": "code",
   "execution_count": 1,
   "id": "6e20d3ef",
   "metadata": {},
   "outputs": [],
   "source": [
    "from google_trends.config import SNOWFLAKE\n",
    "from google_trends.utils import (build_data_per_country,\n",
    "                  build_interest_by_country,\n",
    "                  upload_df_to_snowflake)\n",
    "from pytrends.request import TrendReq"
   ]
  },
  {
   "cell_type": "code",
   "execution_count": 2,
   "id": "ff0fb32c",
   "metadata": {},
   "outputs": [
    {
     "name": "stderr",
     "output_type": "stream",
     "text": [
      "/opt/conda/lib/python3.7/site-packages/cryptography/hazmat/backends/openssl/x509.py:18: CryptographyDeprecationWarning: This version of cryptography contains a temporary pyOpenSSL fallback path. Upgrade pyOpenSSL now.\n",
      "  utils.DeprecatedIn35,\n"
     ]
    }
   ],
   "source": [
    "pytrends = pytrends = TrendReq(timeout=(10,25), retries=10)"
   ]
  },
  {
   "cell_type": "code",
   "execution_count": 3,
   "id": "9f221e89",
   "metadata": {},
   "outputs": [],
   "source": [
    "json_query = {\n",
    "            \"keywords\":[\"Disney+\", \"Star+\"],\n",
    "            \"countries\":[\"AR\", \"BR\", \"CH\"],\n",
    "            \"timeframe\": \"2021-01-01 2021-09-13\"\n",
    "        }"
   ]
  },
  {
   "cell_type": "code",
   "execution_count": 4,
   "id": "6d73aa47",
   "metadata": {},
   "outputs": [
    {
     "name": "stdout",
     "output_type": "stream",
     "text": [
      "Running requests by categories\n",
      "Running GoogleTrendsQuery.RELATED_QUERIES requests for keyword Disney+, for country AR, category 0\n",
      "Running GoogleTrendsQuery.RELATED_QUERIES requests for keyword Star+, for country AR, category 0\n",
      "Running requests by categories\n",
      "Running GoogleTrendsQuery.RELATED_QUERIES requests for keyword Disney+, for country BR, category 0\n",
      "Running GoogleTrendsQuery.RELATED_QUERIES requests for keyword Star+, for country BR, category 0\n",
      "Running requests by categories\n",
      "Running GoogleTrendsQuery.RELATED_QUERIES requests for keyword Disney+, for country CH, category 0\n",
      "Running GoogleTrendsQuery.RELATED_QUERIES requests for keyword Star+, for country CH, category 0\n",
      "Running GoogleTrendsQuery.INTEREST_OVER_TIME requests for keyword Disney+, for country AR, category 0\n",
      "Running GoogleTrendsQuery.INTEREST_OVER_TIME requests for keyword Star+, for country AR, category 0\n",
      "Running GoogleTrendsQuery.INTEREST_OVER_TIME requests for keyword Disney+, for country BR, category 0\n",
      "Running GoogleTrendsQuery.INTEREST_OVER_TIME requests for keyword Star+, for country BR, category 0\n",
      "Running GoogleTrendsQuery.INTEREST_OVER_TIME requests for keyword Disney+, for country CH, category 0\n",
      "Running GoogleTrendsQuery.INTEREST_OVER_TIME requests for keyword Star+, for country CH, category 0\n"
     ]
    }
   ],
   "source": [
    "topsearch_df = build_data_per_country(\n",
    "    timeframe=json_query[\"timeframe\"],\n",
    "    geo_list=json_query[\"countries\"],\n",
    "    pytrends=pytrends,\n",
    "    keyword_list=json_query[\"keywords\"],\n",
    "    include_cat=False\n",
    "\n",
    ")\n",
    "\n",
    "interest_overtime_df = build_interest_by_country(\n",
    "    timeframe=json_query[\"timeframe\"],\n",
    "    geo_list=json_query[\"countries\"],\n",
    "    pytrends=pytrends,\n",
    "    keyword_list=json_query[\"keywords\"],\n",
    "    category=0\n",
    ")"
   ]
  },
  {
   "cell_type": "code",
   "execution_count": 8,
   "id": "d1c4720a",
   "metadata": {},
   "outputs": [
    {
     "name": "stdout",
     "output_type": "stream",
     "text": [
      "Query status: True, Number of rows: 150\n"
     ]
    }
   ],
   "source": [
    "upload_df_to_snowflake(\n",
    "        topsearch_df,\n",
    "        'google_trends_top_search',\n",
    "        SNOWFLAKE\n",
    "    )"
   ]
  },
  {
   "cell_type": "code",
   "execution_count": 7,
   "id": "d8f0c471",
   "metadata": {},
   "outputs": [
    {
     "name": "stdout",
     "output_type": "stream",
     "text": [
      "Query status: True, Number of rows: 3072\n"
     ]
    }
   ],
   "source": [
    "upload_df_to_snowflake(\n",
    "        interest_overtime_df,\n",
    "        'google_trends_interest_over_time',\n",
    "        SNOWFLAKE\n",
    "    )"
   ]
  },
  {
   "cell_type": "code",
   "execution_count": null,
   "id": "e918c292",
   "metadata": {},
   "outputs": [],
   "source": []
  }
 ],
 "metadata": {
  "environment": {
   "name": "common-cpu.m79",
   "type": "gcloud",
   "uri": "gcr.io/deeplearning-platform-release/base-cpu:m79"
  },
  "kernelspec": {
   "display_name": "Python [conda env:root] *",
   "language": "python",
   "name": "conda-root-py"
  },
  "language_info": {
   "codemirror_mode": {
    "name": "ipython",
    "version": 3
   },
   "file_extension": ".py",
   "mimetype": "text/x-python",
   "name": "python",
   "nbconvert_exporter": "python",
   "pygments_lexer": "ipython3",
   "version": "3.7.10"
  }
 },
 "nbformat": 4,
 "nbformat_minor": 5
}
